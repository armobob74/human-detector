{
 "cells": [
  {
   "cell_type": "code",
   "execution_count": null,
   "id": "ed9ab2df",
   "metadata": {},
   "outputs": [],
   "source": [
    "import torch\n",
    "import torch.nn as nn\n",
    "import torch.nn.functional as F\n",
    "import numpy as np\n",
    "import torchvision as tv\n",
    "import matplotlib.pyplot as plt\n",
    "import PIL\n",
    "import os\n",
    "import my_utils as mu"
   ]
  },
  {
   "cell_type": "code",
   "execution_count": null,
   "id": "31c232c7",
   "metadata": {},
   "outputs": [],
   "source": [
    "custom_transform = tv.transforms.Compose([\n",
    "    tv.transforms.Resize((224,224)), #expected to be at least 224 in order to wrok with pretrained models\n",
    "    tv.transforms.ToTensor(),\n",
    "    tv.transforms.Normalize((0.485, 0.456, 0.406), (0.229, 0.224, 0.225)) #for feature extractor\n",
    "])"
   ]
  },
  {
   "cell_type": "code",
   "execution_count": null,
   "id": "997df7a1",
   "metadata": {},
   "outputs": [],
   "source": [
    "trainset = tv.datasets.ImageFolder('./train_set',transform = custom_transform)\n",
    "testset = tv.datasets.ImageFolder('./test_set',transform = custom_transform)"
   ]
  },
  {
   "cell_type": "code",
   "execution_count": null,
   "id": "52854936",
   "metadata": {},
   "outputs": [],
   "source": [
    "b_size = 1\n",
    "trainset_loader = torch.utils.data.DataLoader(trainset, batch_size = b_size, shuffle = True, \n",
    "                                             num_workers=0,pin_memory=True)\n",
    "\n",
    "testset_loader = torch.utils.data.DataLoader(testset, batch_size = b_size, shuffle = True, \n",
    "                                             num_workers=0,pin_memory=True)"
   ]
  },
  {
   "cell_type": "code",
   "execution_count": null,
   "id": "2caf6e1c",
   "metadata": {
    "scrolled": false
   },
   "outputs": [],
   "source": [
    "mu.plot_from_dataset(trainset,2,2)"
   ]
  },
  {
   "cell_type": "code",
   "execution_count": null,
   "id": "74620305",
   "metadata": {},
   "outputs": [],
   "source": [
    "class BasicNet(nn.Module):\n",
    "    '''\n",
    "    This network will take output from the feature extractor and hopefully do a good job at classifying the images.\n",
    "    '''\n",
    "    def __init__(self):\n",
    "        super(BasicNet,self).__init__()\n",
    "        self.dense1 = nn.Linear(1000,16)\n",
    "        self.dense2 = nn.Linear(16,1)\n",
    "        self.act1 = nn.LeakyReLU()\n",
    "        self.act2 = nn.Sigmoid()\n",
    "    def forward(self,x):\n",
    "        x = feature_extractor(x)\n",
    "        x = torch.flatten(x)\n",
    "        x = self.dense1(x)\n",
    "        x = self.act1(x)\n",
    "        x = self.dense2(x)\n",
    "        x = self.act2(x)\n",
    "        return x"
   ]
  },
  {
   "cell_type": "code",
   "execution_count": null,
   "id": "9aaf999c",
   "metadata": {},
   "outputs": [],
   "source": [
    "#define feature extractor\n",
    "feature_extractor = tv.models.squeezenet1_1(pretrained=True).to('cuda') #I tried other backbones but this works best. It's also light!\n",
    "feature_extractor.train(False) #don't wanna accidentally train it later\n",
    "\n",
    "#let's see how feature extractor feels about an image\n",
    "batch_it = iter(trainset_loader)\n",
    "batch,target = next(batch_it)\n",
    "a = feature_extractor(batch.to('cuda')) #returns tensor of size (1,1000). These are the 1000 imagenet categories. \n",
    "m = a.max();\n",
    "n = 0;\n",
    "while a[0][n] != m: n+=1 #find max value, and that's the classification\n",
    "\n",
    "img = mu.prepare_for_pyplot(batch[0])\n",
    "plt.imshow(img)\n",
    "plt.title(\"Category \"+str(n))"
   ]
  },
  {
   "cell_type": "code",
   "execution_count": null,
   "id": "c6870113",
   "metadata": {},
   "outputs": [],
   "source": [
    "net = BasicNet() \n",
    "net = net.to('cuda')\n",
    "print(net)"
   ]
  },
  {
   "cell_type": "code",
   "execution_count": null,
   "id": "890a16ed",
   "metadata": {
    "scrolled": false
   },
   "outputs": [],
   "source": [
    "#training time!\n",
    "criterion = nn.BCELoss()\n",
    "optimizer = torch.optim.SGD(net.parameters(),lr=0.00005)\n",
    "\n",
    "epoch_loss_list = [];\n",
    "test_loss_list = [];\n",
    "max_epochs = 15\n",
    "\n",
    "original_loss = mu.evaluate_epoch_loss(net,trainset_loader,criterion)\n",
    "\n",
    "print(\"--- Untrained loss: \"+str(original_loss)+\" ---\")\n",
    "for E in range(max_epochs):\n",
    "    epoch_loss = 0\n",
    "    batch_it = iter(trainset_loader)\n",
    "    for i in range(len(trainset_loader)):\n",
    "        optimizer.zero_grad()\n",
    "        batch,target = next(batch_it)\n",
    "        target = target.to('cuda')\n",
    "        output = net(batch.to('cuda'))\n",
    "    \n",
    "        loss = criterion(output,target/1) #divide by 1 so it becomes a float\n",
    "        loss.backward()\n",
    "        epoch_loss += output.shape[0] *loss.item()\n",
    "        optimizer.step()\n",
    "        \n",
    "    epoch_loss = epoch_loss / len(trainset_loader)\n",
    "    test_loss = mu.evaluate_epoch_loss(net,testset_loader,criterion)\n",
    "    epoch_loss_list.append(epoch_loss)\n",
    "    test_loss_list.append(test_loss)\n",
    "    n = range(len(test_loss_list))\n",
    "    num_spaces = len(str(max_epochs))-len(str(E))+1 #for pretty formatting of log\n",
    "    print(\"[Epoch\"+\" \"*num_spaces+str(E)+\"] Training Loss: \"+ str(epoch_loss)[0:6]+\", Test Loss:\"+ str(test_loss)[0:6])"
   ]
  },
  {
   "cell_type": "code",
   "execution_count": null,
   "id": "f7425ed5",
   "metadata": {},
   "outputs": [],
   "source": [
    "mu.plot_loss(test_loss_list,epoch_loss_list,title=\"Loss Plot:\")\n",
    "save_path = './training_run_data/' #make sure this ends with '/'\n",
    "mu.save_loss_plot(optimizer,save_path)"
   ]
  },
  {
   "cell_type": "code",
   "execution_count": null,
   "id": "868bc1cd",
   "metadata": {},
   "outputs": [],
   "source": [
    "torch.save(net.state_dict(),'./training_run_data/latest_state_dict.pkl') "
   ]
  },
  {
   "cell_type": "code",
   "execution_count": null,
   "id": "8bc5e5c2",
   "metadata": {
    "scrolled": false
   },
   "outputs": [],
   "source": [
    "mu.plot_tests(net,testset,33,5) #0 means human and 1 means no human\n"
   ]
  },
  {
   "cell_type": "code",
   "execution_count": null,
   "id": "d29dd1c4",
   "metadata": {},
   "outputs": [],
   "source": [
    "mu.plot_tests(net,trainset,3,3) #now let's plot results from the training set"
   ]
  },
  {
   "cell_type": "code",
   "execution_count": null,
   "id": "d652324b",
   "metadata": {},
   "outputs": [],
   "source": []
  }
 ],
 "metadata": {
  "kernelspec": {
   "display_name": "Python 3",
   "language": "python",
   "name": "python3"
  },
  "language_info": {
   "codemirror_mode": {
    "name": "ipython",
    "version": 3
   },
   "file_extension": ".py",
   "mimetype": "text/x-python",
   "name": "python",
   "nbconvert_exporter": "python",
   "pygments_lexer": "ipython3",
   "version": "3.9.2"
  }
 },
 "nbformat": 4,
 "nbformat_minor": 5
}
