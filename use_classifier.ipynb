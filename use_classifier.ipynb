{
 "cells": [
  {
   "cell_type": "code",
   "execution_count": 1,
   "id": "51d4e611",
   "metadata": {},
   "outputs": [],
   "source": [
    "import torch\n",
    "import torch.nn as nn\n",
    "import torch.nn.functional as F\n",
    "import numpy as np\n",
    "import torchvision as tv\n",
    "import matplotlib.pyplot as plt\n",
    "import PIL\n",
    "import os\n",
    "import my_utils as mu\n",
    "from shutil import copyfile"
   ]
  },
  {
   "cell_type": "code",
   "execution_count": 2,
   "id": "534d143d",
   "metadata": {},
   "outputs": [],
   "source": [
    "custom_transform = tv.transforms.Compose([\n",
    "    tv.transforms.Resize((224,224)), #expected to be at least 224 in order to wrok with pretrained models\n",
    "    tv.transforms.Normalize((0.485, 0.456, 0.406), (0.229, 0.224, 0.225)) #for feature extractor\n",
    "])"
   ]
  },
  {
   "cell_type": "code",
   "execution_count": 3,
   "id": "e9758731",
   "metadata": {},
   "outputs": [],
   "source": [
    "class BasicNet(nn.Module): #redefining since one can't easily import from an ipynb notebook \n",
    "    '''\n",
    "    This network will take output from the feature extractor and hopefully do a good job at classifying the images.\n",
    "    '''\n",
    "    def __init__(self):\n",
    "        super(BasicNet,self).__init__()\n",
    "        self.dense1 = nn.Linear(1000,16)\n",
    "        self.dense2 = nn.Linear(16,1)\n",
    "        self.act1 = nn.LeakyReLU()\n",
    "        self.act2 = nn.Sigmoid()\n",
    "    def forward(self,x):\n",
    "        x = feature_extractor(x)\n",
    "        x = torch.flatten(x)\n",
    "        x = self.dense1(x)\n",
    "        x = self.act1(x)\n",
    "        x = self.dense2(x)\n",
    "        x = self.act2(x)\n",
    "        return x"
   ]
  },
  {
   "cell_type": "code",
   "execution_count": 4,
   "id": "12958fca",
   "metadata": {},
   "outputs": [
    {
     "data": {
      "text/plain": [
       "<All keys matched successfully>"
      ]
     },
     "execution_count": 4,
     "metadata": {},
     "output_type": "execute_result"
    }
   ],
   "source": [
    "feature_extractor = tv.models.squeezenet1_1(pretrained=True).to('cuda')\n",
    "net = BasicNet().to('cuda')\n",
    "sd_path = './training_run_data/best_state_dict.pkl'\n",
    "sd = torch.load(sd_path)\n",
    "net.load_state_dict(sd)"
   ]
  },
  {
   "cell_type": "code",
   "execution_count": 38,
   "id": "dfee2393",
   "metadata": {
    "scrolled": false
   },
   "outputs": [],
   "source": [
    "path_to_images = './photos_to_classify/' #folder full of images to classify\n",
    "people_path = './people_folder/' #this is folder where images with people will go\n",
    "no_people_path = './no_people_folder/' #make sure these paths end with '/'\n",
    "f_list = os.listdir(path_to_images)\n",
    "for i in range(len(f_list)):\n",
    "    img = tv.io.read_image(path_to_images + f_list[i])\n",
    "    s = img.size()\n",
    "    if s[0] < 3: #if image is greyscale, make sure dims are correct.\n",
    "        img = img.expand(3,s[1],s[2]) \n",
    "    img = img.unsqueeze(0) #adding dim so network can operate on it\n",
    "    \n",
    "    #convert from uint8 to 0-1\n",
    "    img = img.type('torch.FloatTensor')\n",
    "    img = img / 255 #get in range 0-1\n",
    "    img = custom_transform(img) #normalize\n",
    "    out = net(img.to('cuda'))\n",
    "    out = float(out)\n",
    "    \n",
    "    #copy image to appropriate folder\n",
    "    src = path_to_images + f_list[i]\n",
    "    if out < 0.5: \n",
    "        dst = people_path + f_list[i]\n",
    "    else:\n",
    "        dst = no_people_path + f_list[i]\n",
    "    copyfile(src,dst)"
   ]
  },
  {
   "cell_type": "code",
   "execution_count": null,
   "id": "299c199b",
   "metadata": {},
   "outputs": [],
   "source": []
  }
 ],
 "metadata": {
  "kernelspec": {
   "display_name": "Python 3",
   "language": "python",
   "name": "python3"
  },
  "language_info": {
   "codemirror_mode": {
    "name": "ipython",
    "version": 3
   },
   "file_extension": ".py",
   "mimetype": "text/x-python",
   "name": "python",
   "nbconvert_exporter": "python",
   "pygments_lexer": "ipython3",
   "version": "3.9.2"
  }
 },
 "nbformat": 4,
 "nbformat_minor": 5
}
